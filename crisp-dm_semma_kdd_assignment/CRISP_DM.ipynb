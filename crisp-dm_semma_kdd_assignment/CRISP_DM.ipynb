{
  "nbformat": 4,
  "nbformat_minor": 0,
  "metadata": {
    "colab": {
      "provenance": []
    },
    "kernelspec": {
      "name": "python3",
      "display_name": "Python 3"
    },
    "language_info": {
      "name": "python"
    }
  },
  "cells": [
    {
      "cell_type": "markdown",
      "source": [
        "# **1) Business Understanding**\n",
        "\n",
        "**Objective:**\n",
        "\n",
        "Build a multiclass classification model to predict the pricing category of mobile phones.\n",
        "\n",
        "**Questions to Answer:**\n",
        "\n",
        "What features are most influential in determining the price category of a mobile phone?\n",
        "\n",
        "How well can our model predict the price category of a mobile phone based on its features?"
      ],
      "metadata": {
        "id": "9PgwMgVfsGoe"
      }
    },
    {
      "cell_type": "markdown",
      "source": [
        "# **2) Data Understanding**\n",
        "\n"
      ],
      "metadata": {
        "id": "VF63bP2Ks6VN"
      }
    },
    {
      "cell_type": "code",
      "source": [
        "# Importing necessary libraries for data manipulation and visualization\n",
        "import pandas as pd\n",
        "import matplotlib.pyplot as plt\n",
        "import seaborn as sns\n",
        "\n",
        "# Load the dataset\n",
        "file_path = 'https://raw.githubusercontent.com/neeharikasinghsjsu/cmpe255assignments/main/crisp-dm_semma_kdd_assignment/dataset/crisp-dm_mobile_pricing_train.csv'\n",
        "df = pd.read_csv(file_path)\n",
        "\n",
        "# Show basic statistics and first few rows of the dataset\n",
        "df_description = df.describe()\n",
        "df_head = df.head()\n",
        "\n",
        "df_description, df_head\n"
      ],
      "metadata": {
        "colab": {
          "base_uri": "https://localhost:8080/"
        },
        "id": "vqX2K-LctkPw",
        "outputId": "bc46413e-d78f-4b0c-a53d-ea95b3ff772e"
      },
      "execution_count": 2,
      "outputs": [
        {
          "output_type": "execute_result",
          "data": {
            "text/plain": [
              "(       battery_power       blue  clock_speed     dual_sim           fc  \\\n",
              " count    2000.000000  2000.0000  2000.000000  2000.000000  2000.000000   \n",
              " mean     1238.518500     0.4950     1.522250     0.509500     4.309500   \n",
              " std       439.418206     0.5001     0.816004     0.500035     4.341444   \n",
              " min       501.000000     0.0000     0.500000     0.000000     0.000000   \n",
              " 25%       851.750000     0.0000     0.700000     0.000000     1.000000   \n",
              " 50%      1226.000000     0.0000     1.500000     1.000000     3.000000   \n",
              " 75%      1615.250000     1.0000     2.200000     1.000000     7.000000   \n",
              " max      1998.000000     1.0000     3.000000     1.000000    19.000000   \n",
              " \n",
              "             four_g   int_memory        m_dep    mobile_wt      n_cores  ...  \\\n",
              " count  2000.000000  2000.000000  2000.000000  2000.000000  2000.000000  ...   \n",
              " mean      0.521500    32.046500     0.501750   140.249000     4.520500  ...   \n",
              " std       0.499662    18.145715     0.288416    35.399655     2.287837  ...   \n",
              " min       0.000000     2.000000     0.100000    80.000000     1.000000  ...   \n",
              " 25%       0.000000    16.000000     0.200000   109.000000     3.000000  ...   \n",
              " 50%       1.000000    32.000000     0.500000   141.000000     4.000000  ...   \n",
              " 75%       1.000000    48.000000     0.800000   170.000000     7.000000  ...   \n",
              " max       1.000000    64.000000     1.000000   200.000000     8.000000  ...   \n",
              " \n",
              "          px_height     px_width          ram         sc_h         sc_w  \\\n",
              " count  2000.000000  2000.000000  2000.000000  2000.000000  2000.000000   \n",
              " mean    645.108000  1251.515500  2124.213000    12.306500     5.767000   \n",
              " std     443.780811   432.199447  1084.732044     4.213245     4.356398   \n",
              " min       0.000000   500.000000   256.000000     5.000000     0.000000   \n",
              " 25%     282.750000   874.750000  1207.500000     9.000000     2.000000   \n",
              " 50%     564.000000  1247.000000  2146.500000    12.000000     5.000000   \n",
              " 75%     947.250000  1633.000000  3064.500000    16.000000     9.000000   \n",
              " max    1960.000000  1998.000000  3998.000000    19.000000    18.000000   \n",
              " \n",
              "          talk_time      three_g  touch_screen         wifi  price_range  \n",
              " count  2000.000000  2000.000000   2000.000000  2000.000000  2000.000000  \n",
              " mean     11.011000     0.761500      0.503000     0.507000     1.500000  \n",
              " std       5.463955     0.426273      0.500116     0.500076     1.118314  \n",
              " min       2.000000     0.000000      0.000000     0.000000     0.000000  \n",
              " 25%       6.000000     1.000000      0.000000     0.000000     0.750000  \n",
              " 50%      11.000000     1.000000      1.000000     1.000000     1.500000  \n",
              " 75%      16.000000     1.000000      1.000000     1.000000     2.250000  \n",
              " max      20.000000     1.000000      1.000000     1.000000     3.000000  \n",
              " \n",
              " [8 rows x 21 columns],\n",
              "    battery_power  blue  clock_speed  dual_sim  fc  four_g  int_memory  m_dep  \\\n",
              " 0            842     0          2.2         0   1       0           7    0.6   \n",
              " 1           1021     1          0.5         1   0       1          53    0.7   \n",
              " 2            563     1          0.5         1   2       1          41    0.9   \n",
              " 3            615     1          2.5         0   0       0          10    0.8   \n",
              " 4           1821     1          1.2         0  13       1          44    0.6   \n",
              " \n",
              "    mobile_wt  n_cores  ...  px_height  px_width   ram  sc_h  sc_w  talk_time  \\\n",
              " 0        188        2  ...         20       756  2549     9     7         19   \n",
              " 1        136        3  ...        905      1988  2631    17     3          7   \n",
              " 2        145        5  ...       1263      1716  2603    11     2          9   \n",
              " 3        131        6  ...       1216      1786  2769    16     8         11   \n",
              " 4        141        2  ...       1208      1212  1411     8     2         15   \n",
              " \n",
              "    three_g  touch_screen  wifi  price_range  \n",
              " 0        0             0     1            1  \n",
              " 1        1             1     0            2  \n",
              " 2        1             1     0            2  \n",
              " 3        1             0     0            2  \n",
              " 4        1             1     0            1  \n",
              " \n",
              " [5 rows x 21 columns])"
            ]
          },
          "metadata": {},
          "execution_count": 2
        }
      ]
    },
    {
      "cell_type": "markdown",
      "source": [
        "After loading the dataset, we can see it contains **2000 entries** with **21 columns**.\n",
        "\n",
        "**Here's a brief overview:**\n",
        "\n",
        "**Basic Statistics**\n",
        "\n",
        "The dataset includes various features like battery_power, blue (Bluetooth), clock_speed, dual_sim, fc (front camera), four_g, and so on.\n",
        "\n",
        "The target variable is the price_range, which we aim to predict using a multiclass classification model. It ranges from 0 to 3, indicating different price categories.\n",
        "\n",
        "Features like ram, battery_power, and px_width have a relatively high variance, suggesting they might be influential in predicting the price_range."
      ],
      "metadata": {
        "id": "CHUIh4vvzTi3"
      }
    },
    {
      "cell_type": "markdown",
      "source": [
        "**Sample Data**\n",
        "\n",
        "Here's how the first few rows of the dataset look:"
      ],
      "metadata": {
        "id": "dfNLDwrD0SuV"
      }
    },
    {
      "cell_type": "code",
      "source": [
        "print(df.head())\n"
      ],
      "metadata": {
        "colab": {
          "base_uri": "https://localhost:8080/"
        },
        "id": "wXxkA6qQ0WFM",
        "outputId": "1312954f-0162-43ec-89f7-f5e2554d5c93"
      },
      "execution_count": 3,
      "outputs": [
        {
          "output_type": "stream",
          "name": "stdout",
          "text": [
            "   battery_power  blue  clock_speed  dual_sim  fc  four_g  int_memory  m_dep  \\\n",
            "0            842     0          2.2         0   1       0           7    0.6   \n",
            "1           1021     1          0.5         1   0       1          53    0.7   \n",
            "2            563     1          0.5         1   2       1          41    0.9   \n",
            "3            615     1          2.5         0   0       0          10    0.8   \n",
            "4           1821     1          1.2         0  13       1          44    0.6   \n",
            "\n",
            "   mobile_wt  n_cores  ...  px_height  px_width   ram  sc_h  sc_w  talk_time  \\\n",
            "0        188        2  ...         20       756  2549     9     7         19   \n",
            "1        136        3  ...        905      1988  2631    17     3          7   \n",
            "2        145        5  ...       1263      1716  2603    11     2          9   \n",
            "3        131        6  ...       1216      1786  2769    16     8         11   \n",
            "4        141        2  ...       1208      1212  1411     8     2         15   \n",
            "\n",
            "   three_g  touch_screen  wifi  price_range  \n",
            "0        0             0     1            1  \n",
            "1        1             1     0            2  \n",
            "2        1             1     0            2  \n",
            "3        1             0     0            2  \n",
            "4        1             1     0            1  \n",
            "\n",
            "[5 rows x 21 columns]\n"
          ]
        }
      ]
    },
    {
      "cell_type": "code",
      "source": [
        "# Check for missing values in the dataset\n",
        "missing_values = df.isnull().sum()\n",
        "\n",
        "# Visualize the distribution of the target variable 'price_range'\n",
        "plt.figure(figsize=(8, 6))\n",
        "sns.countplot(data=df, x='price_range')\n",
        "plt.title('Distribution of Price Range Categories')\n",
        "plt.xlabel('Price Range')\n",
        "plt.ylabel('Count')\n",
        "plt.show()\n",
        "\n",
        "missing_values, \"No missing values\" if missing_values.sum() == 0 else \"Missing values found\"\n"
      ],
      "metadata": {
        "colab": {
          "base_uri": "https://localhost:8080/",
          "height": 975
        },
        "id": "bMoALLk51hI3",
        "outputId": "dfafd371-2c24-4a84-e0ee-52abd19f1522"
      },
      "execution_count": 4,
      "outputs": [
        {
          "output_type": "display_data",
          "data": {
            "text/plain": [
              "<Figure size 800x600 with 1 Axes>"
            ],
            "image/png": "[encoded data removed]"
          },
          "metadata": {}
        },
        {
          "output_type": "execute_result",
          "data": {
            "text/plain": [
              "(battery_power    0\n",
              " blue             0\n",
              " clock_speed      0\n",
              " dual_sim         0\n",
              " fc               0\n",
              " four_g           0\n",
              " int_memory       0\n",
              " m_dep            0\n",
              " mobile_wt        0\n",
              " n_cores          0\n",
              " pc               0\n",
              " px_height        0\n",
              " px_width         0\n",
              " ram              0\n",
              " sc_h             0\n",
              " sc_w             0\n",
              " talk_time        0\n",
              " three_g          0\n",
              " touch_screen     0\n",
              " wifi             0\n",
              " price_range      0\n",
              " dtype: int64,\n",
              " 'No missing values')"
            ]
          },
          "metadata": {},
          "execution_count": 4
        }
      ]
    },
    {
      "cell_type": "markdown",
      "source": [
        "**Missing Values**\n",
        "\n",
        "The dataset has no missing values, which is excellent for data quality."
      ],
      "metadata": {
        "id": "AlKpKPim0mvH"
      }
    },
    {
      "cell_type": "markdown",
      "source": [
        "**Target Variable Distribution**\n",
        "\n",
        "The distribution of the target variable, price_range, appears to be relatively uniform across the different categories (as seen in the plot). This is good for classification as it avoids class imbalance problems."
      ],
      "metadata": {
        "id": "vzsLWL_R0ray"
      }
    },
    {
      "cell_type": "markdown",
      "source": [
        "**Summary**\n",
        "\n",
        "The dataset is clean, with no missing values.\n",
        "\n",
        "The target variable is well-distributed among its categories."
      ],
      "metadata": {
        "id": "_HHlZ0us0xOa"
      }
    },
    {
      "cell_type": "markdown",
      "source": [
        "# **3) Data Preparation**"
      ],
      "metadata": {
        "id": "6XtBep9k2CNo"
      }
    },
    {
      "cell_type": "code",
      "source": [
        "from sklearn.model_selection import train_test_split\n",
        "from sklearn.preprocessing import StandardScaler\n",
        "\n",
        "# Separate features and target variable from the dataset\n",
        "X = df.drop('price_range', axis=1)\n",
        "y = df['price_range']\n",
        "\n",
        "# Feature scaling\n",
        "scaler = StandardScaler()\n",
        "X_scaled = scaler.fit_transform(X)\n",
        "\n",
        "# Split the data into training and test sets\n",
        "X_train, X_test, y_train, y_test = train_test_split(X_scaled, y, test_size=0.2, random_state=42, stratify=y)\n",
        "\n",
        "# Show the shape of the training and test sets\n",
        "X_train.shape, X_test.shape, y_train.shape, y_test.shape"
      ],
      "metadata": {
        "colab": {
          "base_uri": "https://localhost:8080/"
        },
        "id": "OCqqHHLS2GqX",
        "outputId": "6650ccf7-b2c3-405f-b9da-413a3b2ef592"
      },
      "execution_count": 6,
      "outputs": [
        {
          "output_type": "execute_result",
          "data": {
            "text/plain": [
              "((1600, 20), (400, 20), (1600,), (400,))"
            ]
          },
          "metadata": {},
          "execution_count": 6
        }
      ]
    },
    {
      "cell_type": "markdown",
      "source": [
        "**Feature Scaling**\n",
        "\n",
        "We applied Standard Scaling to the features to ensure they are on a comparable scale. Scaling is essential for algorithms that are sensitive to the scale of the input features.\n",
        "\n",
        "**Data Splitting**\n",
        "\n",
        "The dataset has been split into training and test sets.\n",
        "\n",
        "Training set: 1600 samples with 20 features each\n",
        "\n",
        "Test set: 400 samples with 20 features each\n",
        "\n",
        "We used a stratified split to ensure that the target variable's categories are equally represented in both the training and test datasets. This approach is essential for maintaining the class distribution and improving the model's performance.\n",
        "\n",
        "**Summary**\n",
        "\n",
        "Features have been scaled.\n",
        "\n",
        "Data has been split into training and test sets, maintaining the class distribution."
      ],
      "metadata": {
        "id": "OdBsk-te0_4_"
      }
    },
    {
      "cell_type": "markdown",
      "source": [
        "# **4) Modeling**"
      ],
      "metadata": {
        "id": "n5HhHyAv2cAf"
      }
    },
    {
      "cell_type": "code",
      "source": [
        "from sklearn.linear_model import LogisticRegression\n",
        "from sklearn.neighbors import KNeighborsClassifier\n",
        "from sklearn.svm import SVC\n",
        "from sklearn.ensemble import RandomForestClassifier\n",
        "from sklearn.metrics import accuracy_score\n",
        "\n",
        "# Initialize models\n",
        "models = {\n",
        "    'Logistic Regression': LogisticRegression(max_iter=1000, random_state=42),\n",
        "    'K-Nearest Neighbors': KNeighborsClassifier(),\n",
        "    'Support Vector Classifier': SVC(),\n",
        "    'Random Forest': RandomForestClassifier(random_state=42)\n",
        "}\n",
        "\n",
        "# Dictionary to hold model names and their respective accuracy scores\n",
        "model_accuracies = {}\n",
        "\n",
        "# Train and evaluate each model\n",
        "for name, model in models.items():\n",
        "    # Train the model\n",
        "    model.fit(X_train, y_train)\n",
        "\n",
        "    # Make predictions on the test set\n",
        "    y_pred = model.predict(X_test)\n",
        "\n",
        "    # Evaluate the model\n",
        "    accuracy = accuracy_score(y_test, y_pred)\n",
        "\n",
        "    # Store the accuracy in the dictionary\n",
        "    model_accuracies[name] = accuracy\n",
        "\n",
        "# Display the accuracy of each model\n",
        "model_accuracies\n"
      ],
      "metadata": {
        "colab": {
          "base_uri": "https://localhost:8080/"
        },
        "id": "mDur1DkL2kBx",
        "outputId": "444f219e-05fb-4eb3-df11-d4f3aac1912f"
      },
      "execution_count": 7,
      "outputs": [
        {
          "output_type": "execute_result",
          "data": {
            "text/plain": [
              "{'Logistic Regression': 0.9625,\n",
              " 'K-Nearest Neighbors': 0.5075,\n",
              " 'Support Vector Classifier': 0.895,\n",
              " 'Random Forest': 0.88}"
            ]
          },
          "metadata": {},
          "execution_count": 7
        }
      ]
    },
    {
      "cell_type": "markdown",
      "source": [
        "We trained and evaluated four different classification models:\n",
        "\n",
        "**Logistic Regression:** Accuracy =96.25%\n",
        "\n",
        "**K-Nearest Neighbors:** Accuracy =50.75%\n",
        "\n",
        "**Support Vector Classifier:** Accuracy =89.5%\n",
        "\n",
        "**Random Forest:** Accuracy =88%\n"
      ],
      "metadata": {
        "id": "cnTwfdOR2mXV"
      }
    },
    {
      "cell_type": "markdown",
      "source": [
        "**Observations**\n",
        "\n",
        "**Logistic Regression** performed exceptionally well with an accuracy of 96.25%, making it the best model among the ones we tried.\n",
        "\n",
        "**K-Nearest Neighbors** had the lowest accuracy, which could be due to the high-dimensional feature space or the need for hyperparameter tuning.\n",
        "\n",
        "**Support Vector Classifier** and **Random Forest** also performed well but were not as accurate as **Logistic Regression**."
      ],
      "metadata": {
        "id": "kgjnQQ4z38YW"
      }
    },
    {
      "cell_type": "markdown",
      "source": [
        "# **5) Evaluation**"
      ],
      "metadata": {
        "id": "fpdEwqjy4HdB"
      }
    },
    {
      "cell_type": "code",
      "source": [
        "from sklearn.metrics import classification_report, confusion_matrix\n",
        "import numpy as np\n",
        "\n",
        "# Choose the best-performing model (Logistic Regression)\n",
        "best_model = models['Logistic Regression']\n",
        "\n",
        "# Predict the classes for the test set\n",
        "y_pred_best = best_model.predict(X_test)\n",
        "\n",
        "# Generate the classification report and confusion matrix\n",
        "class_report = classification_report(y_test, y_pred_best)\n",
        "conf_matrix = confusion_matrix(y_test, y_pred_best)\n",
        "\n",
        "# Visualize the confusion matrix\n",
        "plt.figure(figsize=(8, 6))\n",
        "sns.heatmap(conf_matrix, annot=True, fmt='g', cmap='Blues',\n",
        "            xticklabels=np.unique(y), yticklabels=np.unique(y))\n",
        "plt.xlabel('Predicted Label')\n",
        "plt.ylabel('True Label')\n",
        "plt.title('Confusion Matrix')\n",
        "plt.show()\n",
        "\n",
        "class_report\n"
      ],
      "metadata": {
        "colab": {
          "base_uri": "https://localhost:8080/",
          "height": 618
        },
        "id": "aSgTxTLp4J-n",
        "outputId": "98f7ac7c-0bfb-48c0-b362-3aaa3c21ceae"
      },
      "execution_count": 8,
      "outputs": [
        {
          "output_type": "display_data",
          "data": {
            "text/plain": [
              "<Figure size 800x600 with 2 Axes>"
            ],
            "image/png": "[encoded data removed]"
          },
          "metadata": {}
        },
        {
          "output_type": "execute_result",
          "data": {
            "text/plain": [
              "'              precision    recall  f1-score   support\\n\\n           0       0.99      0.98      0.98       100\\n           1       0.96      0.96      0.96       100\\n           2       0.95      0.93      0.94       100\\n           3       0.95      0.98      0.97       100\\n\\n    accuracy                           0.96       400\\n   macro avg       0.96      0.96      0.96       400\\nweighted avg       0.96      0.96      0.96       400\\n'"
            ],
            "application/vnd.google.colaboratory.intrinsic+json": {
              "type": "string"
            }
          },
          "metadata": {},
          "execution_count": 8
        }
      ]
    },
    {
      "cell_type": "markdown",
      "source": [
        "**Classification Report**\n",
        "\n",
        "The classification report provides the following metrics for each class:\n",
        "\n",
        "**Precision:** The ratio of true positive predictions to the total positive predictions (true positives + false positives).\n",
        "\n",
        "**Recall:** The ratio of true positive predictions to the total actual positives (true positives + false negatives).\n",
        "\n",
        "**F1-Score:** The harmonic mean of precision and recall, giving a balanced measure of performance.\n",
        "\n",
        "**Accuracy:** The ratio of correct predictions to the total number of instances.\n"
      ],
      "metadata": {
        "id": "nPjEsbkM4PzZ"
      }
    },
    {
      "cell_type": "markdown",
      "source": [
        "For our best-performing model, **Logistic Regression,** the metrics are as follows:\n",
        "\n",
        "**Class 0:** Precision = 0.99, Recall = 0.98, F1-Score = 0.98\n",
        "\n",
        "**Class 1:** Precision = 0.96, Recall = 0.96, F1-Score = 0.96\n",
        "\n",
        "**Class 2:** Precision = 0.95, Recall = 0.93, F1-Score = 0.94\n",
        "\n",
        "**Class 3:** Precision = 0.95, Recall = 0.98, F1-Score = 0.97\n",
        "\n",
        "**Overall Accuracy:** 96.25%"
      ],
      "metadata": {
        "id": "y-L4mTN34poi"
      }
    },
    {
      "cell_type": "markdown",
      "source": [],
      "metadata": {
        "id": "XZIulV7R5m7n"
      }
    },
    {
      "cell_type": "markdown",
      "source": [
        "**Confusion Matrix**\n",
        "\n",
        "The confusion matrix visualizes the performance of the classification model. The diagonal elements represent the number of points for which the predicted label is equal to the true label, while the off-diagonal elements are those that are mislabeled by the classifier.\n",
        "\n",
        "**Summary**\n",
        "\n",
        "The Logistic Regression model performs exceptionally well across all classes, with high precision, recall, and F1-scores. The overall accuracy is 96.25%, and the confusion matrix further confirms its strong performance.\n",
        "\n"
      ],
      "metadata": {
        "id": "Q57E5FRD48lk"
      }
    },
    {
      "cell_type": "markdown",
      "source": [
        "# **6) Deployment**\n",
        "\n",
        "The final step in the CRISP-DM methodology is deploying the model into a production or operational environment where it can start providing value by making predictions on new, unseen data.\n",
        "\n",
        "**Summary**\n",
        "\n",
        "Deployment is the stage where the model starts delivering real business value. The choice of deployment strategy would depend on various factors like business needs, data volume, and required latency.\n",
        "\n"
      ],
      "metadata": {
        "id": "kaq1V72X5CMX"
      }
    },
    {
      "cell_type": "markdown",
      "source": [
        "# **Testing with Unseen data**"
      ],
      "metadata": {
        "id": "OI3fvHuQ5ohA"
      }
    },
    {
      "cell_type": "code",
      "source": [
        "# Load the test dataset\n",
        "test_file_path = 'https://raw.githubusercontent.com/neeharikasinghsjsu/cmpe255assignments/main/crisp-dm_semma_kdd_assignment/dataset/crisp-dm_mobile_pricing_unseen.csv'\n",
        "df_test = pd.read_csv(test_file_path)\n",
        "\n",
        "# Check if the test dataset has the same features and target variable\n",
        "test_features = set(df_test.columns) - {'price_range'}\n",
        "train_features = set(df.columns) - {'price_range'}\n",
        "\n",
        "# Check if the features match and if the target variable exists\n",
        "features_match = test_features == train_features\n",
        "target_exists = 'price_range' in df_test.columns\n",
        "\n",
        "# Show the first few rows of the test dataset and the checks\n",
        "df_test_head = df_test.head()\n",
        "df_test_head, features_match, target_exists\n",
        "\n",
        "\n",
        "# Drop the 'id' column from the test dataset and perform feature scaling\n",
        "X_test_new = df_test.drop('id', axis=1)\n",
        "X_test_scaled = scaler.transform(X_test_new)  # Use the same scaler object as for the training dataset\n",
        "\n",
        "# Use the best-performing model to make predictions on the new test set\n",
        "y_test_pred = best_model.predict(X_test_scaled)\n",
        "\n",
        "# Add the predictions back to the test dataframe\n",
        "df_test['predicted_price_range'] = y_test_pred\n",
        "\n",
        "# Show the first few rows of the test dataset with the predicted 'price_range'\n",
        "df_test.head()\n"
      ],
      "metadata": {
        "colab": {
          "base_uri": "https://localhost:8080/",
          "height": 256
        },
        "id": "Fv6XJ0Tt5sbu",
        "outputId": "ac34349f-b02d-4f1a-b010-511daabf10d5"
      },
      "execution_count": 10,
      "outputs": [
        {
          "output_type": "execute_result",
          "data": {
            "text/plain": [
              "   id  battery_power  blue  clock_speed  dual_sim  fc  four_g  int_memory  \\\n",
              "0   1           1043     1          1.8         1  14       0           5   \n",
              "1   2            841     1          0.5         1   4       1          61   \n",
              "2   3           1807     1          2.8         0   1       0          27   \n",
              "3   4           1546     0          0.5         1  18       1          25   \n",
              "4   5           1434     0          1.4         0  11       1          49   \n",
              "\n",
              "   m_dep  mobile_wt  ...  px_height  px_width   ram  sc_h  sc_w  talk_time  \\\n",
              "0    0.1        193  ...        226      1412  3476    12     7          2   \n",
              "1    0.8        191  ...        746       857  3895     6     0          7   \n",
              "2    0.9        186  ...       1270      1366  2396    17    10         10   \n",
              "3    0.5         96  ...        295      1752  3893    10     0          7   \n",
              "4    0.5        108  ...        749       810  1773    15     8          7   \n",
              "\n",
              "   three_g  touch_screen  wifi  predicted_price_range  \n",
              "0        0             1     0                      2  \n",
              "1        1             0     0                      3  \n",
              "2        0             1     1                      2  \n",
              "3        1             1     0                      3  \n",
              "4        1             0     1                      1  \n",
              "\n",
              "[5 rows x 22 columns]"
            ],
            "text/html": [
              "\n",
              "  <div id=\"df-85d6fcb6-2bd5-4f1c-a6b8-67249685fe85\" class=\"colab-df-container\">\n",
              "    <div>\n",
              "<style scoped>\n",
              "    .dataframe tbody tr th:only-of-type {\n",
              "        vertical-align: middle;\n",
              "    }\n",
              "\n",
              "    .dataframe tbody tr th {\n",
              "        vertical-align: top;\n",
              "    }\n",
              "\n",
              "    .dataframe thead th {\n",
              "        text-align: right;\n",
              "    }\n",
              "</style>\n",
              "<table border=\"1\" class=\"dataframe\">\n",
              "  <thead>\n",
              "    <tr style=\"text-align: right;\">\n",
              "      <th></th>\n",
              "      <th>id</th>\n",
              "      <th>battery_power</th>\n",
              "      <th>blue</th>\n",
              "      <th>clock_speed</th>\n",
              "      <th>dual_sim</th>\n",
              "      <th>fc</th>\n",
              "      <th>four_g</th>\n",
              "      <th>int_memory</th>\n",
              "      <th>m_dep</th>\n",
              "      <th>mobile_wt</th>\n",
              "      <th>...</th>\n",
              "      <th>px_height</th>\n",
              "      <th>px_width</th>\n",
              "      <th>ram</th>\n",
              "      <th>sc_h</th>\n",
              "      <th>sc_w</th>\n",
              "      <th>talk_time</th>\n",
              "      <th>three_g</th>\n",
              "      <th>touch_screen</th>\n",
              "      <th>wifi</th>\n",
              "      <th>predicted_price_range</th>\n",
              "    </tr>\n",
              "  </thead>\n",
              "  <tbody>\n",
              "    <tr>\n",
              "      <th>0</th>\n",
              "      <td>1</td>\n",
              "      <td>1043</td>\n",
              "      <td>1</td>\n",
              "      <td>1.8</td>\n",
              "      <td>1</td>\n",
              "      <td>14</td>\n",
              "      <td>0</td>\n",
              "      <td>5</td>\n",
              "      <td>0.1</td>\n",
              "      <td>193</td>\n",
              "      <td>...</td>\n",
              "      <td>226</td>\n",
              "      <td>1412</td>\n",
              "      <td>3476</td>\n",
              "      <td>12</td>\n",
              "      <td>7</td>\n",
              "      <td>2</td>\n",
              "      <td>0</td>\n",
              "      <td>1</td>\n",
              "      <td>0</td>\n",
              "      <td>2</td>\n",
              "    </tr>\n",
              "    <tr>\n",
              "      <th>1</th>\n",
              "      <td>2</td>\n",
              "      <td>841</td>\n",
              "      <td>1</td>\n",
              "      <td>0.5</td>\n",
              "      <td>1</td>\n",
              "      <td>4</td>\n",
              "      <td>1</td>\n",
              "      <td>61</td>\n",
              "      <td>0.8</td>\n",
              "      <td>191</td>\n",
              "      <td>...</td>\n",
              "      <td>746</td>\n",
              "      <td>857</td>\n",
              "      <td>3895</td>\n",
              "      <td>6</td>\n",
              "      <td>0</td>\n",
              "      <td>7</td>\n",
              "      <td>1</td>\n",
              "      <td>0</td>\n",
              "      <td>0</td>\n",
              "      <td>3</td>\n",
              "    </tr>\n",
              "    <tr>\n",
              "      <th>2</th>\n",
              "      <td>3</td>\n",
              "      <td>1807</td>\n",
              "      <td>1</td>\n",
              "      <td>2.8</td>\n",
              "      <td>0</td>\n",
              "      <td>1</td>\n",
              "      <td>0</td>\n",
              "      <td>27</td>\n",
              "      <td>0.9</td>\n",
              "      <td>186</td>\n",
              "      <td>...</td>\n",
              "      <td>1270</td>\n",
              "      <td>1366</td>\n",
              "      <td>2396</td>\n",
              "      <td>17</td>\n",
              "      <td>10</td>\n",
              "      <td>10</td>\n",
              "      <td>0</td>\n",
              "      <td>1</td>\n",
              "      <td>1</td>\n",
              "      <td>2</td>\n",
              "    </tr>\n",
              "    <tr>\n",
              "      <th>3</th>\n",
              "      <td>4</td>\n",
              "      <td>1546</td>\n",
              "      <td>0</td>\n",
              "      <td>0.5</td>\n",
              "      <td>1</td>\n",
              "      <td>18</td>\n",
              "      <td>1</td>\n",
              "      <td>25</td>\n",
              "      <td>0.5</td>\n",
              "      <td>96</td>\n",
              "      <td>...</td>\n",
              "      <td>295</td>\n",
              "      <td>1752</td>\n",
              "      <td>3893</td>\n",
              "      <td>10</td>\n",
              "      <td>0</td>\n",
              "      <td>7</td>\n",
              "      <td>1</td>\n",
              "      <td>1</td>\n",
              "      <td>0</td>\n",
              "      <td>3</td>\n",
              "    </tr>\n",
              "    <tr>\n",
              "      <th>4</th>\n",
              "      <td>5</td>\n",
              "      <td>1434</td>\n",
              "      <td>0</td>\n",
              "      <td>1.4</td>\n",
              "      <td>0</td>\n",
              "      <td>11</td>\n",
              "      <td>1</td>\n",
              "      <td>49</td>\n",
              "      <td>0.5</td>\n",
              "      <td>108</td>\n",
              "      <td>...</td>\n",
              "      <td>749</td>\n",
              "      <td>810</td>\n",
              "      <td>1773</td>\n",
              "      <td>15</td>\n",
              "      <td>8</td>\n",
              "      <td>7</td>\n",
              "      <td>1</td>\n",
              "      <td>0</td>\n",
              "      <td>1</td>\n",
              "      <td>1</td>\n",
              "    </tr>\n",
              "  </tbody>\n",
              "</table>\n",
              "<p>5 rows × 22 columns</p>\n",
              "</div>\n",
              "    <div class=\"colab-df-buttons\">\n",
              "\n",
              "  <div class=\"colab-df-container\">\n",
              "    <button class=\"colab-df-convert\" onclick=\"convertToInteractive('df-85d6fcb6-2bd5-4f1c-a6b8-67249685fe85')\"\n",
              "            title=\"Convert this dataframe to an interactive table.\"\n",
              "            style=\"display:none;\">\n",
              "\n",
              "  <svg xmlns=\"http://www.w3.org/2000/svg\" height=\"24px\" viewBox=\"0 -960 960 960\">\n",
              "    <path d=\"M120-120v-720h720v720H120Zm60-500h600v-160H180v160Zm220 220h160v-160H400v160Zm0 220h160v-160H400v160ZM180-400h160v-160H180v160Zm440 0h160v-160H620v160ZM180-180h160v-160H180v160Zm440 0h160v-160H620v160Z\"/>\n",
              "  </svg>\n",
              "    </button>\n",
              "\n",
              "  <style>\n",
              "    .colab-df-container {\n",
              "      display:flex;\n",
              "      gap: 12px;\n",
              "    }\n",
              "\n",
              "    .colab-df-convert {\n",
              "      background-color: #E8F0FE;\n",
              "      border: none;\n",
              "      border-radius: 50%;\n",
              "      cursor: pointer;\n",
              "      display: none;\n",
              "      fill: #1967D2;\n",
              "      height: 32px;\n",
              "      padding: 0 0 0 0;\n",
              "      width: 32px;\n",
              "    }\n",
              "\n",
              "    .colab-df-convert:hover {\n",
              "      background-color: #E2EBFA;\n",
              "      box-shadow: 0px 1px 2px rgba(60, 64, 67, 0.3), 0px 1px 3px 1px rgba(60, 64, 67, 0.15);\n",
              "      fill: #174EA6;\n",
              "    }\n",
              "\n",
              "    .colab-df-buttons div {\n",
              "      margin-bottom: 4px;\n",
              "    }\n",
              "\n",
              "    [theme=dark] .colab-df-convert {\n",
              "      background-color: #3B4455;\n",
              "      fill: #D2E3FC;\n",
              "    }\n",
              "\n",
              "    [theme=dark] .colab-df-convert:hover {\n",
              "      background-color: #434B5C;\n",
              "      box-shadow: 0px 1px 3px 1px rgba(0, 0, 0, 0.15);\n",
              "      filter: drop-shadow(0px 1px 2px rgba(0, 0, 0, 0.3));\n",
              "      fill: #FFFFFF;\n",
              "    }\n",
              "  </style>\n",
              "\n",
              "    <script>\n",
              "      const buttonEl =\n",
              "        document.querySelector('#df-85d6fcb6-2bd5-4f1c-a6b8-67249685fe85 button.colab-df-convert');\n",
              "      buttonEl.style.display =\n",
              "        google.colab.kernel.accessAllowed ? 'block' : 'none';\n",
              "\n",
              "      async function convertToInteractive(key) {\n",
              "        const element = document.querySelector('#df-85d6fcb6-2bd5-4f1c-a6b8-67249685fe85');\n",
              "        const dataTable =\n",
              "          await google.colab.kernel.invokeFunction('convertToInteractive',\n",
              "                                                    [key], {});\n",
              "        if (!dataTable) return;\n",
              "\n",
              "        const docLinkHtml = 'Like what you see? Visit the ' +\n",
              "          '<a target=\"_blank\" href=https://colab.research.google.com/notebooks/data_table.ipynb>data table notebook</a>'\n",
              "          + ' to learn more about interactive tables.';\n",
              "        element.innerHTML = '';\n",
              "        dataTable['output_type'] = 'display_data';\n",
              "        await google.colab.output.renderOutput(dataTable, element);\n",
              "        const docLink = document.createElement('div');\n",
              "        docLink.innerHTML = docLinkHtml;\n",
              "        element.appendChild(docLink);\n",
              "      }\n",
              "    </script>\n",
              "  </div>\n",
              "\n",
              "\n",
              "<div id=\"df-41b7f324-b74e-4314-9f57-56c142d85cac\">\n",
              "  <button class=\"colab-df-quickchart\" onclick=\"quickchart('df-41b7f324-b74e-4314-9f57-56c142d85cac')\"\n",
              "            title=\"Suggest charts.\"\n",
              "            style=\"display:none;\">\n",
              "\n",
              "<svg xmlns=\"http://www.w3.org/2000/svg\" height=\"24px\"viewBox=\"0 0 24 24\"\n",
              "     width=\"24px\">\n",
              "    <g>\n",
              "        <path d=\"M19 3H5c-1.1 0-2 .9-2 2v14c0 1.1.9 2 2 2h14c1.1 0 2-.9 2-2V5c0-1.1-.9-2-2-2zM9 17H7v-7h2v7zm4 0h-2V7h2v10zm4 0h-2v-4h2v4z\"/>\n",
              "    </g>\n",
              "</svg>\n",
              "  </button>\n",
              "\n",
              "<style>\n",
              "  .colab-df-quickchart {\n",
              "      --bg-color: #E8F0FE;\n",
              "      --fill-color: #1967D2;\n",
              "      --hover-bg-color: #E2EBFA;\n",
              "      --hover-fill-color: #174EA6;\n",
              "      --disabled-fill-color: #AAA;\n",
              "      --disabled-bg-color: #DDD;\n",
              "  }\n",
              "\n",
              "  [theme=dark] .colab-df-quickchart {\n",
              "      --bg-color: #3B4455;\n",
              "      --fill-color: #D2E3FC;\n",
              "      --hover-bg-color: #434B5C;\n",
              "      --hover-fill-color: #FFFFFF;\n",
              "      --disabled-bg-color: #3B4455;\n",
              "      --disabled-fill-color: #666;\n",
              "  }\n",
              "\n",
              "  .colab-df-quickchart {\n",
              "    background-color: var(--bg-color);\n",
              "    border: none;\n",
              "    border-radius: 50%;\n",
              "    cursor: pointer;\n",
              "    display: none;\n",
              "    fill: var(--fill-color);\n",
              "    height: 32px;\n",
              "    padding: 0;\n",
              "    width: 32px;\n",
              "  }\n",
              "\n",
              "  .colab-df-quickchart:hover {\n",
              "    background-color: var(--hover-bg-color);\n",
              "    box-shadow: 0 1px 2px rgba(60, 64, 67, 0.3), 0 1px 3px 1px rgba(60, 64, 67, 0.15);\n",
              "    fill: var(--button-hover-fill-color);\n",
              "  }\n",
              "\n",
              "  .colab-df-quickchart-complete:disabled,\n",
              "  .colab-df-quickchart-complete:disabled:hover {\n",
              "    background-color: var(--disabled-bg-color);\n",
              "    fill: var(--disabled-fill-color);\n",
              "    box-shadow: none;\n",
              "  }\n",
              "\n",
              "  .colab-df-spinner {\n",
              "    border: 2px solid var(--fill-color);\n",
              "    border-color: transparent;\n",
              "    border-bottom-color: var(--fill-color);\n",
              "    animation:\n",
              "      spin 1s steps(1) infinite;\n",
              "  }\n",
              "\n",
              "  @keyframes spin {\n",
              "    0% {\n",
              "      border-color: transparent;\n",
              "      border-bottom-color: var(--fill-color);\n",
              "      border-left-color: var(--fill-color);\n",
              "    }\n",
              "    20% {\n",
              "      border-color: transparent;\n",
              "      border-left-color: var(--fill-color);\n",
              "      border-top-color: var(--fill-color);\n",
              "    }\n",
              "    30% {\n",
              "      border-color: transparent;\n",
              "      border-left-color: var(--fill-color);\n",
              "      border-top-color: var(--fill-color);\n",
              "      border-right-color: var(--fill-color);\n",
              "    }\n",
              "    40% {\n",
              "      border-color: transparent;\n",
              "      border-right-color: var(--fill-color);\n",
              "      border-top-color: var(--fill-color);\n",
              "    }\n",
              "    60% {\n",
              "      border-color: transparent;\n",
              "      border-right-color: var(--fill-color);\n",
              "    }\n",
              "    80% {\n",
              "      border-color: transparent;\n",
              "      border-right-color: var(--fill-color);\n",
              "      border-bottom-color: var(--fill-color);\n",
              "    }\n",
              "    90% {\n",
              "      border-color: transparent;\n",
              "      border-bottom-color: var(--fill-color);\n",
              "    }\n",
              "  }\n",
              "</style>\n",
              "\n",
              "  <script>\n",
              "    async function quickchart(key) {\n",
              "      const quickchartButtonEl =\n",
              "        document.querySelector('#' + key + ' button');\n",
              "      quickchartButtonEl.disabled = true;  // To prevent multiple clicks.\n",
              "      quickchartButtonEl.classList.add('colab-df-spinner');\n",
              "      try {\n",
              "        const charts = await google.colab.kernel.invokeFunction(\n",
              "            'suggestCharts', [key], {});\n",
              "      } catch (error) {\n",
              "        console.error('Error during call to suggestCharts:', error);\n",
              "      }\n",
              "      quickchartButtonEl.classList.remove('colab-df-spinner');\n",
              "      quickchartButtonEl.classList.add('colab-df-quickchart-complete');\n",
              "    }\n",
              "    (() => {\n",
              "      let quickchartButtonEl =\n",
              "        document.querySelector('#df-41b7f324-b74e-4314-9f57-56c142d85cac button');\n",
              "      quickchartButtonEl.style.display =\n",
              "        google.colab.kernel.accessAllowed ? 'block' : 'none';\n",
              "    })();\n",
              "  </script>\n",
              "</div>\n",
              "\n",
              "    </div>\n",
              "  </div>\n"
            ]
          },
          "metadata": {},
          "execution_count": 10
        }
      ]
    },
    {
      "cell_type": "markdown",
      "source": [
        "We've successfully used the best-performing **Logistic Regression model** to predict the price_range for the test dataset. The predictions have been added to the test dataframe under the column predicted_price_range."
      ],
      "metadata": {
        "id": "mDwf6HLu6elu"
      }
    }
  ]
}