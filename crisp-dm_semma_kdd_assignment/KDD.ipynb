{
  "nbformat": 4,
  "nbformat_minor": 0,
  "metadata": {
    "colab": {
      "provenance": []
    },
    "kernelspec": {
      "name": "python3",
      "display_name": "Python 3"
    },
    "language_info": {
      "name": "python"
    }
  },
  "cells": [
    {
      "cell_type": "markdown",
      "source": [
        "# **Step 1: Understanding the Domain**"
      ],
      "metadata": {
        "id": "yA2tp-4wR-un"
      }
    },
    {
      "cell_type": "markdown",
      "source": [
        "We're focusing on predicting the chances of a heart attack, which is a critical healthcare issue. Heart attacks occur due to the blockage of blood flow to the heart, often caused by a buildup of fat, cholesterol, or other substances. Various factors can contribute to the risk of a heart attack, including age, sex, family history, smoking, high blood pressure, high cholesterol levels, and diabetes, among others.\n",
        "\n",
        "Predicting heart attacks involves understanding various medical metrics and indicators that could be relevant to the onset of this medical condition. By developing a predictive model, healthcare professionals can potentially identify high-risk individuals and implement preventative measures.\n"
      ],
      "metadata": {
        "id": "i9o1u4WtSKEy"
      }
    },
    {
      "cell_type": "code",
      "source": [
        "# Importing necessary libraries for data manipulation and visualization\n",
        "import pandas as pd\n",
        "import matplotlib.pyplot as plt\n",
        "import seaborn as sns\n",
        "\n",
        "# Load the dataset\n",
        "file_path = 'https://raw.githubusercontent.com/neeharikasinghsjsu/cmpe255assignments/main/crisp-dm_semma_kdd_assignment/dataset/kdd_heart_train.csv'\n",
        "heart_data = pd.read_csv(file_path)\n",
        "\n",
        "# Display the first few rows of the dataset to get an initial overview\n",
        "heart_data.head()\n"
      ],
      "metadata": {
        "colab": {
          "base_uri": "https://localhost:8080/",
          "height": 206
        },
        "id": "PVXN5MK2U-D2",
        "outputId": "94309953-86fd-42f9-85ec-165fc036d83e"
      },
      "execution_count": 1,
      "outputs": [
        {
          "output_type": "execute_result",
          "data": {
            "text/plain": [
              "   age  sex  cp  trtbps  chol  fbs  restecg  thalachh  exng  oldpeak  slp  \\\n",
              "0   63    1   3     145   233    1        0       150     0      2.3    0   \n",
              "1   37    1   2     130   250    0        1       187     0      3.5    0   \n",
              "2   41    0   1     130   204    0        0       172     0      1.4    2   \n",
              "3   56    1   1     120   236    0        1       178     0      0.8    2   \n",
              "4   57    0   0     120   354    0        1       163     1      0.6    2   \n",
              "\n",
              "   caa  thall  output  \n",
              "0    0      1       1  \n",
              "1    0      2       1  \n",
              "2    0      2       1  \n",
              "3    0      2       1  \n",
              "4    0      2       1  "
            ],
            "text/html": [
              "\n",
              "  <div id=\"df-dad6af0c-7f8e-47b8-b49b-15102239ca56\" class=\"colab-df-container\">\n",
              "    <div>\n",
              "<style scoped>\n",
              "    .dataframe tbody tr th:only-of-type {\n",
              "        vertical-align: middle;\n",
              "    }\n",
              "\n",
              "    .dataframe tbody tr th {\n",
              "        vertical-align: top;\n",
              "    }\n",
              "\n",
              "    .dataframe thead th {\n",
              "        text-align: right;\n",
              "    }\n",
              "</style>\n",
              "<table border=\"1\" class=\"dataframe\">\n",
              "  <thead>\n",
              "    <tr style=\"text-align: right;\">\n",
              "      <th></th>\n",
              "      <th>age</th>\n",
              "      <th>sex</th>\n",
              "      <th>cp</th>\n",
              "      <th>trtbps</th>\n",
              "      <th>chol</th>\n",
              "      <th>fbs</th>\n",
              "      <th>restecg</th>\n",
              "      <th>thalachh</th>\n",
              "      <th>exng</th>\n",
              "      <th>oldpeak</th>\n",
              "      <th>slp</th>\n",
              "      <th>caa</th>\n",
              "      <th>thall</th>\n",
              "      <th>output</th>\n",
              "    </tr>\n",
              "  </thead>\n",
              "  <tbody>\n",
              "    <tr>\n",
              "      <th>0</th>\n",
              "      <td>63</td>\n",
              "      <td>1</td>\n",
              "      <td>3</td>\n",
              "      <td>145</td>\n",
              "      <td>233</td>\n",
              "      <td>1</td>\n",
              "      <td>0</td>\n",
              "      <td>150</td>\n",
              "      <td>0</td>\n",
              "      <td>2.3</td>\n",
              "      <td>0</td>\n",
              "      <td>0</td>\n",
              "      <td>1</td>\n",
              "      <td>1</td>\n",
              "    </tr>\n",
              "    <tr>\n",
              "      <th>1</th>\n",
              "      <td>37</td>\n",
              "      <td>1</td>\n",
              "      <td>2</td>\n",
              "      <td>130</td>\n",
              "      <td>250</td>\n",
              "      <td>0</td>\n",
              "      <td>1</td>\n",
              "      <td>187</td>\n",
              "      <td>0</td>\n",
              "      <td>3.5</td>\n",
              "      <td>0</td>\n",
              "      <td>0</td>\n",
              "      <td>2</td>\n",
              "      <td>1</td>\n",
              "    </tr>\n",
              "    <tr>\n",
              "      <th>2</th>\n",
              "      <td>41</td>\n",
              "      <td>0</td>\n",
              "      <td>1</td>\n",
              "      <td>130</td>\n",
              "      <td>204</td>\n",
              "      <td>0</td>\n",
              "      <td>0</td>\n",
              "      <td>172</td>\n",
              "      <td>0</td>\n",
              "      <td>1.4</td>\n",
              "      <td>2</td>\n",
              "      <td>0</td>\n",
              "      <td>2</td>\n",
              "      <td>1</td>\n",
              "    </tr>\n",
              "    <tr>\n",
              "      <th>3</th>\n",
              "      <td>56</td>\n",
              "      <td>1</td>\n",
              "      <td>1</td>\n",
              "      <td>120</td>\n",
              "      <td>236</td>\n",
              "      <td>0</td>\n",
              "      <td>1</td>\n",
              "      <td>178</td>\n",
              "      <td>0</td>\n",
              "      <td>0.8</td>\n",
              "      <td>2</td>\n",
              "      <td>0</td>\n",
              "      <td>2</td>\n",
              "      <td>1</td>\n",
              "    </tr>\n",
              "    <tr>\n",
              "      <th>4</th>\n",
              "      <td>57</td>\n",
              "      <td>0</td>\n",
              "      <td>0</td>\n",
              "      <td>120</td>\n",
              "      <td>354</td>\n",
              "      <td>0</td>\n",
              "      <td>1</td>\n",
              "      <td>163</td>\n",
              "      <td>1</td>\n",
              "      <td>0.6</td>\n",
              "      <td>2</td>\n",
              "      <td>0</td>\n",
              "      <td>2</td>\n",
              "      <td>1</td>\n",
              "    </tr>\n",
              "  </tbody>\n",
              "</table>\n",
              "</div>\n",
              "    <div class=\"colab-df-buttons\">\n",
              "\n",
              "  <div class=\"colab-df-container\">\n",
              "    <button class=\"colab-df-convert\" onclick=\"convertToInteractive('df-dad6af0c-7f8e-47b8-b49b-15102239ca56')\"\n",
              "            title=\"Convert this dataframe to an interactive table.\"\n",
              "            style=\"display:none;\">\n",
              "\n",
              "  <svg xmlns=\"http://www.w3.org/2000/svg\" height=\"24px\" viewBox=\"0 -960 960 960\">\n",
              "    <path d=\"M120-120v-720h720v720H120Zm60-500h600v-160H180v160Zm220 220h160v-160H400v160Zm0 220h160v-160H400v160ZM180-400h160v-160H180v160Zm440 0h160v-160H620v160ZM180-180h160v-160H180v160Zm440 0h160v-160H620v160Z\"/>\n",
              "  </svg>\n",
              "    </button>\n",
              "\n",
              "  <style>\n",
              "    .colab-df-container {\n",
              "      display:flex;\n",
              "      gap: 12px;\n",
              "    }\n",
              "\n",
              "    .colab-df-convert {\n",
              "      background-color: #E8F0FE;\n",
              "      border: none;\n",
              "      border-radius: 50%;\n",
              "      cursor: pointer;\n",
              "      display: none;\n",
              "      fill: #1967D2;\n",
              "      height: 32px;\n",
              "      padding: 0 0 0 0;\n",
              "      width: 32px;\n",
              "    }\n",
              "\n",
              "    .colab-df-convert:hover {\n",
              "      background-color: #E2EBFA;\n",
              "      box-shadow: 0px 1px 2px rgba(60, 64, 67, 0.3), 0px 1px 3px 1px rgba(60, 64, 67, 0.15);\n",
              "      fill: #174EA6;\n",
              "    }\n",
              "\n",
              "    .colab-df-buttons div {\n",
              "      margin-bottom: 4px;\n",
              "    }\n",
              "\n",
              "    [theme=dark] .colab-df-convert {\n",
              "      background-color: #3B4455;\n",
              "      fill: #D2E3FC;\n",
              "    }\n",
              "\n",
              "    [theme=dark] .colab-df-convert:hover {\n",
              "      background-color: #434B5C;\n",
              "      box-shadow: 0px 1px 3px 1px rgba(0, 0, 0, 0.15);\n",
              "      filter: drop-shadow(0px 1px 2px rgba(0, 0, 0, 0.3));\n",
              "      fill: #FFFFFF;\n",
              "    }\n",
              "  </style>\n",
              "\n",
              "    <script>\n",
              "      const buttonEl =\n",
              "        document.querySelector('#df-dad6af0c-7f8e-47b8-b49b-15102239ca56 button.colab-df-convert');\n",
              "      buttonEl.style.display =\n",
              "        google.colab.kernel.accessAllowed ? 'block' : 'none';\n",
              "\n",
              "      async function convertToInteractive(key) {\n",
              "        const element = document.querySelector('#df-dad6af0c-7f8e-47b8-b49b-15102239ca56');\n",
              "        const dataTable =\n",
              "          await google.colab.kernel.invokeFunction('convertToInteractive',\n",
              "                                                    [key], {});\n",
              "        if (!dataTable) return;\n",
              "\n",
              "        const docLinkHtml = 'Like what you see? Visit the ' +\n",
              "          '<a target=\"_blank\" href=https://colab.research.google.com/notebooks/data_table.ipynb>data table notebook</a>'\n",
              "          + ' to learn more about interactive tables.';\n",
              "        element.innerHTML = '';\n",
              "        dataTable['output_type'] = 'display_data';\n",
              "        await google.colab.output.renderOutput(dataTable, element);\n",
              "        const docLink = document.createElement('div');\n",
              "        docLink.innerHTML = docLinkHtml;\n",
              "        element.appendChild(docLink);\n",
              "      }\n",
              "    </script>\n",
              "  </div>\n",
              "\n",
              "\n",
              "<div id=\"df-5c640d92-abb1-4ee5-a1e6-05ed3cbc32b5\">\n",
              "  <button class=\"colab-df-quickchart\" onclick=\"quickchart('df-5c640d92-abb1-4ee5-a1e6-05ed3cbc32b5')\"\n",
              "            title=\"Suggest charts.\"\n",
              "            style=\"display:none;\">\n",
              "\n",
              "<svg xmlns=\"http://www.w3.org/2000/svg\" height=\"24px\"viewBox=\"0 0 24 24\"\n",
              "     width=\"24px\">\n",
              "    <g>\n",
              "        <path d=\"M19 3H5c-1.1 0-2 .9-2 2v14c0 1.1.9 2 2 2h14c1.1 0 2-.9 2-2V5c0-1.1-.9-2-2-2zM9 17H7v-7h2v7zm4 0h-2V7h2v10zm4 0h-2v-4h2v4z\"/>\n",
              "    </g>\n",
              "</svg>\n",
              "  </button>\n",
              "\n",
              "<style>\n",
              "  .colab-df-quickchart {\n",
              "      --bg-color: #E8F0FE;\n",
              "      --fill-color: #1967D2;\n",
              "      --hover-bg-color: #E2EBFA;\n",
              "      --hover-fill-color: #174EA6;\n",
              "      --disabled-fill-color: #AAA;\n",
              "      --disabled-bg-color: #DDD;\n",
              "  }\n",
              "\n",
              "  [theme=dark] .colab-df-quickchart {\n",
              "      --bg-color: #3B4455;\n",
              "      --fill-color: #D2E3FC;\n",
              "      --hover-bg-color: #434B5C;\n",
              "      --hover-fill-color: #FFFFFF;\n",
              "      --disabled-bg-color: #3B4455;\n",
              "      --disabled-fill-color: #666;\n",
              "  }\n",
              "\n",
              "  .colab-df-quickchart {\n",
              "    background-color: var(--bg-color);\n",
              "    border: none;\n",
              "    border-radius: 50%;\n",
              "    cursor: pointer;\n",
              "    display: none;\n",
              "    fill: var(--fill-color);\n",
              "    height: 32px;\n",
              "    padding: 0;\n",
              "    width: 32px;\n",
              "  }\n",
              "\n",
              "  .colab-df-quickchart:hover {\n",
              "    background-color: var(--hover-bg-color);\n",
              "    box-shadow: 0 1px 2px rgba(60, 64, 67, 0.3), 0 1px 3px 1px rgba(60, 64, 67, 0.15);\n",
              "    fill: var(--button-hover-fill-color);\n",
              "  }\n",
              "\n",
              "  .colab-df-quickchart-complete:disabled,\n",
              "  .colab-df-quickchart-complete:disabled:hover {\n",
              "    background-color: var(--disabled-bg-color);\n",
              "    fill: var(--disabled-fill-color);\n",
              "    box-shadow: none;\n",
              "  }\n",
              "\n",
              "  .colab-df-spinner {\n",
              "    border: 2px solid var(--fill-color);\n",
              "    border-color: transparent;\n",
              "    border-bottom-color: var(--fill-color);\n",
              "    animation:\n",
              "      spin 1s steps(1) infinite;\n",
              "  }\n",
              "\n",
              "  @keyframes spin {\n",
              "    0% {\n",
              "      border-color: transparent;\n",
              "      border-bottom-color: var(--fill-color);\n",
              "      border-left-color: var(--fill-color);\n",
              "    }\n",
              "    20% {\n",
              "      border-color: transparent;\n",
              "      border-left-color: var(--fill-color);\n",
              "      border-top-color: var(--fill-color);\n",
              "    }\n",
              "    30% {\n",
              "      border-color: transparent;\n",
              "      border-left-color: var(--fill-color);\n",
              "      border-top-color: var(--fill-color);\n",
              "      border-right-color: var(--fill-color);\n",
              "    }\n",
              "    40% {\n",
              "      border-color: transparent;\n",
              "      border-right-color: var(--fill-color);\n",
              "      border-top-color: var(--fill-color);\n",
              "    }\n",
              "    60% {\n",
              "      border-color: transparent;\n",
              "      border-right-color: var(--fill-color);\n",
              "    }\n",
              "    80% {\n",
              "      border-color: transparent;\n",
              "      border-right-color: var(--fill-color);\n",
              "      border-bottom-color: var(--fill-color);\n",
              "    }\n",
              "    90% {\n",
              "      border-color: transparent;\n",
              "      border-bottom-color: var(--fill-color);\n",
              "    }\n",
              "  }\n",
              "</style>\n",
              "\n",
              "  <script>\n",
              "    async function quickchart(key) {\n",
              "      const quickchartButtonEl =\n",
              "        document.querySelector('#' + key + ' button');\n",
              "      quickchartButtonEl.disabled = true;  // To prevent multiple clicks.\n",
              "      quickchartButtonEl.classList.add('colab-df-spinner');\n",
              "      try {\n",
              "        const charts = await google.colab.kernel.invokeFunction(\n",
              "            'suggestCharts', [key], {});\n",
              "      } catch (error) {\n",
              "        console.error('Error during call to suggestCharts:', error);\n",
              "      }\n",
              "      quickchartButtonEl.classList.remove('colab-df-spinner');\n",
              "      quickchartButtonEl.classList.add('colab-df-quickchart-complete');\n",
              "    }\n",
              "    (() => {\n",
              "      let quickchartButtonEl =\n",
              "        document.querySelector('#df-5c640d92-abb1-4ee5-a1e6-05ed3cbc32b5 button');\n",
              "      quickchartButtonEl.style.display =\n",
              "        google.colab.kernel.accessAllowed ? 'block' : 'none';\n",
              "    })();\n",
              "  </script>\n",
              "</div>\n",
              "\n",
              "    </div>\n",
              "  </div>\n"
            ]
          },
          "metadata": {},
          "execution_count": 1
        }
      ]
    },
    {
      "cell_type": "markdown",
      "source": [
        "The dataset contains 14 columns, of which 13 are features (age, sex, cp, trtbps, chol, fbs, restecg, thalachh, exng, oldpeak, slp, caa, thall) that could potentially influence the likelihood of a heart attack.\n",
        "\n",
        "**age:** Age of the individual\n",
        "\n",
        "**sex:** Gender (1 = male, 0 = female)\n",
        "\n",
        "**cp:** Chest pain type (0-3, different types)\n",
        "\n",
        "**trtbps:** Resting blood pressure in mm Hg\n",
        "\n",
        "**chol:** Cholesterol level in mg/dl\n",
        "\n",
        "**fbs:** Fasting blood sugar level (1 = true if > 120 mg/dl, 0 = false)\n",
        "\n",
        "**restecg:** Resting electrocardiographic results (0-2, different types)\n",
        "\n",
        "**thalachh:** Maximum heart rate achieved\n",
        "\n",
        "**exng: **Exercise-induced angina (1 = yes, 0 = no)\n",
        "\n",
        "**oldpeak:** ST depression induced by exercise relative to rest\n",
        "\n",
        "**slp:** Slope of the peak exercise ST segment (0-2, different types)\n",
        "\n",
        "**caa:** Number of major vessels colored by fluoroscopy (0-4)\n",
        "\n",
        "**thall:** Thalassemia (1-3, different types)\n",
        "\n",
        "**output:** Target variable (1 = higher chance of heart attack, 0 = lower chance)\n",
        "\n",
        "The **target variable** is \"output\", which indicates the chances of a heart attack (1 for higher chance and 0 for lower chance)."
      ],
      "metadata": {
        "id": "x6lrOatWVHF1"
      }
    },
    {
      "cell_type": "markdown",
      "source": [
        "**Missing Values**\n",
        "\n",
        "There are no missing values in any of the columns. This is excellent as it simplifies the preprocessing steps."
      ],
      "metadata": {
        "id": "SDqCbF_QVsQi"
      }
    },
    {
      "cell_type": "markdown",
      "source": [
        "**Basic Statistics**\n",
        "\n",
        "**Age:** Ranges from 29 to 77 years. The average age is approximately 54.\n",
        "\n",
        "**Sex:** About 68% are male (1) and 32% are female (0).\n",
        "\n",
        "**Chest Pain (cp):** Varies from 0 to 3, indicating different types of chest pain.\n",
        "\n",
        "**Resting Blood Pressure (trtbps):** Ranges from 94 to 200 mm Hg. The average is approximately 132 mm Hg.\n",
        "\n",
        "**Cholesterol (chol):** Ranges from 126 to 564 mg/dl. The average is approximately 246 mg/dl.\n",
        "\n",
        "**Fasting Blood Sugar (fbs):** About 85% have fbs < 120 mg/dl (0), and 15% have fbs > 120 mg/dl (1).\n",
        "\n",
        "**Resting Electrocardiographic Results (restecg):** Varies from 0 to 2.\n",
        "Maximum Heart Rate (thalachh): Ranges from 71 to 202. The average is approximately 150.\n",
        "\n",
        "**Exercise-Induced Angina (exng):** About 33% have exercise-induced angina (1), and 67% do not (0).\n",
        "\n",
        "**Oldpeak:** Ranges from 0 to 6.2.\n",
        "\n",
        "**Slope (slp):** Varies from 0 to 2.\n",
        "\n",
        "**Number of Major Vessels (caa):** Ranges from 0 to 4.\n",
        "\n",
        "**Thalassemia (thall):** Varies from 0 to 3.\n",
        "\n",
        "**Output (Target):** About 54% have a higher chance of heart attack (1), and 46% have a lower chance (0)."
      ],
      "metadata": {
        "id": "ep1N8-YRVzvD"
      }
    },
    {
      "cell_type": "markdown",
      "source": [
        "# **Step 2: Data Selection**"
      ],
      "metadata": {
        "id": "5X_OB-kEWZ7X"
      }
    },
    {
      "cell_type": "code",
      "source": [
        "# Importing necessary libraries for data visualization\n",
        "import matplotlib.pyplot as plt\n",
        "import seaborn as sns\n",
        "\n",
        "# Set the aesthetic style of the plots\n",
        "sns.set_style(\"whitegrid\")\n",
        "\n",
        "# Plotting the distribution of the target variable to check if the dataset is balanced or imbalanced\n",
        "plt.figure(figsize=(6, 4))\n",
        "sns.countplot(x='output', data=heart_data)\n",
        "plt.title('Distribution of Target Variable (Output)')\n",
        "plt.xlabel('Output (0 = Lower chance, 1 = Higher chance)')\n",
        "plt.ylabel('Count')\n",
        "plt.show()\n",
        "\n",
        "# Plotting the correlation matrix to understand the relationship between features and the target variable\n",
        "plt.figure(figsize=(14, 10))\n",
        "correlation_matrix = heart_data.corr()\n",
        "sns.heatmap(correlation_matrix, annot=True, cmap='coolwarm')\n",
        "plt.title('Correlation Matrix')\n",
        "plt.show()\n"
      ],
      "metadata": {
        "colab": {
          "base_uri": "https://localhost:8080/",
          "height": 1000
        },
        "id": "pv4zS5QkXI5B",
        "outputId": "fc53b0f6-e93d-456b-c442-aab61d58ff13"
      },
      "execution_count": 2,
      "outputs": [
        {
          "output_type": "display_data",
          "data": {
            "text/plain": [
              "<Figure size 600x400 with 1 Axes>"
            ],
            "image/png": "[encoded data removed]"
          },
          "metadata": {}
        },
        {
          "output_type": "display_data",
          "data": {
            "text/plain": [
              "<Figure size 1400x1000 with 2 Axes>"
            ],
            "image/png": "[encoded data removed]"
          },
          "metadata": {}
        }
      ]
    },
    {
      "cell_type": "markdown",
      "source": [
        "**Distribution of Target Variable (Output):**\n",
        "The dataset appears to be relatively balanced with respect to the target variable. There are a slightly higher number of cases with a higher chance of a heart attack (Output = 1) compared to those with a lower chance (Output = 0).\n",
        "\n",
        "**Correlation Matrix:**\n",
        "Features like cp (Chest Pain), thalachh (Maximum Heart Rate), and slp (Slope) have a positive correlation with the target variable output, suggesting that they may be good predictors for a higher chance of a heart attack.\n",
        "\n",
        "Features like exng (Exercise-Induced Angina), oldpeak, and caa (Number of Major Vessels) have a negative correlation with output, indicating that they might be good predictors for a lower chance of a heart attack."
      ],
      "metadata": {
        "id": "6Dzvz31NW5CK"
      }
    },
    {
      "cell_type": "markdown",
      "source": [
        "# **Step 3: Data Preprocessing**"
      ],
      "metadata": {
        "id": "kQr5GB-7XSWY"
      }
    },
    {
      "cell_type": "markdown",
      "source": [
        "**Handling Missing Values:**\n",
        "Since we've already confirmed that there are no missing values in the dataset, we can skip this step."
      ],
      "metadata": {
        "id": "ocUvpl6iXfyv"
      }
    },
    {
      "cell_type": "markdown",
      "source": [
        "**Feature Scaling: **\n",
        "\n",
        "Since the range of values across features varies, we'll normalize the features so that they all have similar scales."
      ],
      "metadata": {
        "id": "GOkBy7kMXVWH"
      }
    },
    {
      "cell_type": "code",
      "source": [
        "# Importing the necessary library for feature scaling\n",
        "from sklearn.preprocessing import StandardScaler\n",
        "\n",
        "# Selecting features and target variable\n",
        "X = heart_data.drop(columns=['output'])  # Features\n",
        "y = heart_data['output']  # Target variable\n",
        "\n",
        "# Initialize the StandardScaler\n",
        "scaler = StandardScaler()\n",
        "\n",
        "# Fit and transform the features\n",
        "X_scaled = scaler.fit_transform(X)\n",
        "\n",
        "# Convert scaled features to DataFrame for better readability\n",
        "X_scaled_df = pd.DataFrame(X_scaled, columns=X.columns)\n",
        "\n",
        "# Display the first few rows of scaled features\n",
        "X_scaled_df.head()\n"
      ],
      "metadata": {
        "colab": {
          "base_uri": "https://localhost:8080/",
          "height": 206
        },
        "id": "U2XlbtF0XbAn",
        "outputId": "18adf348-d6af-4a3d-a55f-738737838c37"
      },
      "execution_count": 4,
      "outputs": [
        {
          "output_type": "execute_result",
          "data": {
            "text/plain": [
              "        age       sex        cp    trtbps      chol       fbs   restecg  \\\n",
              "0  0.952197  0.681005  1.973123  0.763956 -0.256334  2.394438 -1.005832   \n",
              "1 -1.915313  0.681005  1.002577 -0.092738  0.072199 -0.417635  0.898962   \n",
              "2 -1.474158 -1.468418  0.032031 -0.092738 -0.816773 -0.417635 -1.005832   \n",
              "3  0.180175  0.681005  0.032031 -0.663867 -0.198357 -0.417635  0.898962   \n",
              "4  0.290464 -1.468418 -0.938515 -0.663867  2.082050 -0.417635  0.898962   \n",
              "\n",
              "   thalachh      exng   oldpeak       slp       caa     thall  \n",
              "0  0.015443 -0.696631  1.087338 -2.274579 -0.714429 -2.148873  \n",
              "1  1.633471 -0.696631  2.122573 -2.274579 -0.714429 -0.512922  \n",
              "2  0.977514 -0.696631  0.310912  0.976352 -0.714429 -0.512922  \n",
              "3  1.239897 -0.696631 -0.206705  0.976352 -0.714429 -0.512922  \n",
              "4  0.583939  1.435481 -0.379244  0.976352 -0.714429 -0.512922  "
            ],
            "text/html": [
              "\n",
              "  <div id=\"df-a984844a-45c5-4869-8a77-55ec92a73f2d\" class=\"colab-df-container\">\n",
              "    <div>\n",
              "<style scoped>\n",
              "    .dataframe tbody tr th:only-of-type {\n",
              "        vertical-align: middle;\n",
              "    }\n",
              "\n",
              "    .dataframe tbody tr th {\n",
              "        vertical-align: top;\n",
              "    }\n",
              "\n",
              "    .dataframe thead th {\n",
              "        text-align: right;\n",
              "    }\n",
              "</style>\n",
              "<table border=\"1\" class=\"dataframe\">\n",
              "  <thead>\n",
              "    <tr style=\"text-align: right;\">\n",
              "      <th></th>\n",
              "      <th>age</th>\n",
              "      <th>sex</th>\n",
              "      <th>cp</th>\n",
              "      <th>trtbps</th>\n",
              "      <th>chol</th>\n",
              "      <th>fbs</th>\n",
              "      <th>restecg</th>\n",
              "      <th>thalachh</th>\n",
              "      <th>exng</th>\n",
              "      <th>oldpeak</th>\n",
              "      <th>slp</th>\n",
              "      <th>caa</th>\n",
              "      <th>thall</th>\n",
              "    </tr>\n",
              "  </thead>\n",
              "  <tbody>\n",
              "    <tr>\n",
              "      <th>0</th>\n",
              "      <td>0.952197</td>\n",
              "      <td>0.681005</td>\n",
              "      <td>1.973123</td>\n",
              "      <td>0.763956</td>\n",
              "      <td>-0.256334</td>\n",
              "      <td>2.394438</td>\n",
              "      <td>-1.005832</td>\n",
              "      <td>0.015443</td>\n",
              "      <td>-0.696631</td>\n",
              "      <td>1.087338</td>\n",
              "      <td>-2.274579</td>\n",
              "      <td>-0.714429</td>\n",
              "      <td>-2.148873</td>\n",
              "    </tr>\n",
              "    <tr>\n",
              "      <th>1</th>\n",
              "      <td>-1.915313</td>\n",
              "      <td>0.681005</td>\n",
              "      <td>1.002577</td>\n",
              "      <td>-0.092738</td>\n",
              "      <td>0.072199</td>\n",
              "      <td>-0.417635</td>\n",
              "      <td>0.898962</td>\n",
              "      <td>1.633471</td>\n",
              "      <td>-0.696631</td>\n",
              "      <td>2.122573</td>\n",
              "      <td>-2.274579</td>\n",
              "      <td>-0.714429</td>\n",
              "      <td>-0.512922</td>\n",
              "    </tr>\n",
              "    <tr>\n",
              "      <th>2</th>\n",
              "      <td>-1.474158</td>\n",
              "      <td>-1.468418</td>\n",
              "      <td>0.032031</td>\n",
              "      <td>-0.092738</td>\n",
              "      <td>-0.816773</td>\n",
              "      <td>-0.417635</td>\n",
              "      <td>-1.005832</td>\n",
              "      <td>0.977514</td>\n",
              "      <td>-0.696631</td>\n",
              "      <td>0.310912</td>\n",
              "      <td>0.976352</td>\n",
              "      <td>-0.714429</td>\n",
              "      <td>-0.512922</td>\n",
              "    </tr>\n",
              "    <tr>\n",
              "      <th>3</th>\n",
              "      <td>0.180175</td>\n",
              "      <td>0.681005</td>\n",
              "      <td>0.032031</td>\n",
              "      <td>-0.663867</td>\n",
              "      <td>-0.198357</td>\n",
              "      <td>-0.417635</td>\n",
              "      <td>0.898962</td>\n",
              "      <td>1.239897</td>\n",
              "      <td>-0.696631</td>\n",
              "      <td>-0.206705</td>\n",
              "      <td>0.976352</td>\n",
              "      <td>-0.714429</td>\n",
              "      <td>-0.512922</td>\n",
              "    </tr>\n",
              "    <tr>\n",
              "      <th>4</th>\n",
              "      <td>0.290464</td>\n",
              "      <td>-1.468418</td>\n",
              "      <td>-0.938515</td>\n",
              "      <td>-0.663867</td>\n",
              "      <td>2.082050</td>\n",
              "      <td>-0.417635</td>\n",
              "      <td>0.898962</td>\n",
              "      <td>0.583939</td>\n",
              "      <td>1.435481</td>\n",
              "      <td>-0.379244</td>\n",
              "      <td>0.976352</td>\n",
              "      <td>-0.714429</td>\n",
              "      <td>-0.512922</td>\n",
              "    </tr>\n",
              "  </tbody>\n",
              "</table>\n",
              "</div>\n",
              "    <div class=\"colab-df-buttons\">\n",
              "\n",
              "  <div class=\"colab-df-container\">\n",
              "    <button class=\"colab-df-convert\" onclick=\"convertToInteractive('df-a984844a-45c5-4869-8a77-55ec92a73f2d')\"\n",
              "            title=\"Convert this dataframe to an interactive table.\"\n",
              "            style=\"display:none;\">\n",
              "\n",
              "  <svg xmlns=\"http://www.w3.org/2000/svg\" height=\"24px\" viewBox=\"0 -960 960 960\">\n",
              "    <path d=\"M120-120v-720h720v720H120Zm60-500h600v-160H180v160Zm220 220h160v-160H400v160Zm0 220h160v-160H400v160ZM180-400h160v-160H180v160Zm440 0h160v-160H620v160ZM180-180h160v-160H180v160Zm440 0h160v-160H620v160Z\"/>\n",
              "  </svg>\n",
              "    </button>\n",
              "\n",
              "  <style>\n",
              "    .colab-df-container {\n",
              "      display:flex;\n",
              "      gap: 12px;\n",
              "    }\n",
              "\n",
              "    .colab-df-convert {\n",
              "      background-color: #E8F0FE;\n",
              "      border: none;\n",
              "      border-radius: 50%;\n",
              "      cursor: pointer;\n",
              "      display: none;\n",
              "      fill: #1967D2;\n",
              "      height: 32px;\n",
              "      padding: 0 0 0 0;\n",
              "      width: 32px;\n",
              "    }\n",
              "\n",
              "    .colab-df-convert:hover {\n",
              "      background-color: #E2EBFA;\n",
              "      box-shadow: 0px 1px 2px rgba(60, 64, 67, 0.3), 0px 1px 3px 1px rgba(60, 64, 67, 0.15);\n",
              "      fill: #174EA6;\n",
              "    }\n",
              "\n",
              "    .colab-df-buttons div {\n",
              "      margin-bottom: 4px;\n",
              "    }\n",
              "\n",
              "    [theme=dark] .colab-df-convert {\n",
              "      background-color: #3B4455;\n",
              "      fill: #D2E3FC;\n",
              "    }\n",
              "\n",
              "    [theme=dark] .colab-df-convert:hover {\n",
              "      background-color: #434B5C;\n",
              "      box-shadow: 0px 1px 3px 1px rgba(0, 0, 0, 0.15);\n",
              "      filter: drop-shadow(0px 1px 2px rgba(0, 0, 0, 0.3));\n",
              "      fill: #FFFFFF;\n",
              "    }\n",
              "  </style>\n",
              "\n",
              "    <script>\n",
              "      const buttonEl =\n",
              "        document.querySelector('#df-a984844a-45c5-4869-8a77-55ec92a73f2d button.colab-df-convert');\n",
              "      buttonEl.style.display =\n",
              "        google.colab.kernel.accessAllowed ? 'block' : 'none';\n",
              "\n",
              "      async function convertToInteractive(key) {\n",
              "        const element = document.querySelector('#df-a984844a-45c5-4869-8a77-55ec92a73f2d');\n",
              "        const dataTable =\n",
              "          await google.colab.kernel.invokeFunction('convertToInteractive',\n",
              "                                                    [key], {});\n",
              "        if (!dataTable) return;\n",
              "\n",
              "        const docLinkHtml = 'Like what you see? Visit the ' +\n",
              "          '<a target=\"_blank\" href=https://colab.research.google.com/notebooks/data_table.ipynb>data table notebook</a>'\n",
              "          + ' to learn more about interactive tables.';\n",
              "        element.innerHTML = '';\n",
              "        dataTable['output_type'] = 'display_data';\n",
              "        await google.colab.output.renderOutput(dataTable, element);\n",
              "        const docLink = document.createElement('div');\n",
              "        docLink.innerHTML = docLinkHtml;\n",
              "        element.appendChild(docLink);\n",
              "      }\n",
              "    </script>\n",
              "  </div>\n",
              "\n",
              "\n",
              "<div id=\"df-003673d5-ed75-40db-abe3-f5d9a64fa859\">\n",
              "  <button class=\"colab-df-quickchart\" onclick=\"quickchart('df-003673d5-ed75-40db-abe3-f5d9a64fa859')\"\n",
              "            title=\"Suggest charts.\"\n",
              "            style=\"display:none;\">\n",
              "\n",
              "<svg xmlns=\"http://www.w3.org/2000/svg\" height=\"24px\"viewBox=\"0 0 24 24\"\n",
              "     width=\"24px\">\n",
              "    <g>\n",
              "        <path d=\"M19 3H5c-1.1 0-2 .9-2 2v14c0 1.1.9 2 2 2h14c1.1 0 2-.9 2-2V5c0-1.1-.9-2-2-2zM9 17H7v-7h2v7zm4 0h-2V7h2v10zm4 0h-2v-4h2v4z\"/>\n",
              "    </g>\n",
              "</svg>\n",
              "  </button>\n",
              "\n",
              "<style>\n",
              "  .colab-df-quickchart {\n",
              "      --bg-color: #E8F0FE;\n",
              "      --fill-color: #1967D2;\n",
              "      --hover-bg-color: #E2EBFA;\n",
              "      --hover-fill-color: #174EA6;\n",
              "      --disabled-fill-color: #AAA;\n",
              "      --disabled-bg-color: #DDD;\n",
              "  }\n",
              "\n",
              "  [theme=dark] .colab-df-quickchart {\n",
              "      --bg-color: #3B4455;\n",
              "      --fill-color: #D2E3FC;\n",
              "      --hover-bg-color: #434B5C;\n",
              "      --hover-fill-color: #FFFFFF;\n",
              "      --disabled-bg-color: #3B4455;\n",
              "      --disabled-fill-color: #666;\n",
              "  }\n",
              "\n",
              "  .colab-df-quickchart {\n",
              "    background-color: var(--bg-color);\n",
              "    border: none;\n",
              "    border-radius: 50%;\n",
              "    cursor: pointer;\n",
              "    display: none;\n",
              "    fill: var(--fill-color);\n",
              "    height: 32px;\n",
              "    padding: 0;\n",
              "    width: 32px;\n",
              "  }\n",
              "\n",
              "  .colab-df-quickchart:hover {\n",
              "    background-color: var(--hover-bg-color);\n",
              "    box-shadow: 0 1px 2px rgba(60, 64, 67, 0.3), 0 1px 3px 1px rgba(60, 64, 67, 0.15);\n",
              "    fill: var(--button-hover-fill-color);\n",
              "  }\n",
              "\n",
              "  .colab-df-quickchart-complete:disabled,\n",
              "  .colab-df-quickchart-complete:disabled:hover {\n",
              "    background-color: var(--disabled-bg-color);\n",
              "    fill: var(--disabled-fill-color);\n",
              "    box-shadow: none;\n",
              "  }\n",
              "\n",
              "  .colab-df-spinner {\n",
              "    border: 2px solid var(--fill-color);\n",
              "    border-color: transparent;\n",
              "    border-bottom-color: var(--fill-color);\n",
              "    animation:\n",
              "      spin 1s steps(1) infinite;\n",
              "  }\n",
              "\n",
              "  @keyframes spin {\n",
              "    0% {\n",
              "      border-color: transparent;\n",
              "      border-bottom-color: var(--fill-color);\n",
              "      border-left-color: var(--fill-color);\n",
              "    }\n",
              "    20% {\n",
              "      border-color: transparent;\n",
              "      border-left-color: var(--fill-color);\n",
              "      border-top-color: var(--fill-color);\n",
              "    }\n",
              "    30% {\n",
              "      border-color: transparent;\n",
              "      border-left-color: var(--fill-color);\n",
              "      border-top-color: var(--fill-color);\n",
              "      border-right-color: var(--fill-color);\n",
              "    }\n",
              "    40% {\n",
              "      border-color: transparent;\n",
              "      border-right-color: var(--fill-color);\n",
              "      border-top-color: var(--fill-color);\n",
              "    }\n",
              "    60% {\n",
              "      border-color: transparent;\n",
              "      border-right-color: var(--fill-color);\n",
              "    }\n",
              "    80% {\n",
              "      border-color: transparent;\n",
              "      border-right-color: var(--fill-color);\n",
              "      border-bottom-color: var(--fill-color);\n",
              "    }\n",
              "    90% {\n",
              "      border-color: transparent;\n",
              "      border-bottom-color: var(--fill-color);\n",
              "    }\n",
              "  }\n",
              "</style>\n",
              "\n",
              "  <script>\n",
              "    async function quickchart(key) {\n",
              "      const quickchartButtonEl =\n",
              "        document.querySelector('#' + key + ' button');\n",
              "      quickchartButtonEl.disabled = true;  // To prevent multiple clicks.\n",
              "      quickchartButtonEl.classList.add('colab-df-spinner');\n",
              "      try {\n",
              "        const charts = await google.colab.kernel.invokeFunction(\n",
              "            'suggestCharts', [key], {});\n",
              "      } catch (error) {\n",
              "        console.error('Error during call to suggestCharts:', error);\n",
              "      }\n",
              "      quickchartButtonEl.classList.remove('colab-df-spinner');\n",
              "      quickchartButtonEl.classList.add('colab-df-quickchart-complete');\n",
              "    }\n",
              "    (() => {\n",
              "      let quickchartButtonEl =\n",
              "        document.querySelector('#df-003673d5-ed75-40db-abe3-f5d9a64fa859 button');\n",
              "      quickchartButtonEl.style.display =\n",
              "        google.colab.kernel.accessAllowed ? 'block' : 'none';\n",
              "    })();\n",
              "  </script>\n",
              "</div>\n",
              "\n",
              "    </div>\n",
              "  </div>\n"
            ]
          },
          "metadata": {},
          "execution_count": 4
        }
      ]
    },
    {
      "cell_type": "markdown",
      "source": [
        "The features have been successfully scaled using standardization, where each feature is transformed to have a mean of 0 and a standard deviation of 1. This ensures that all features contribute equally to the distance-based calculations in machine learning algorithms."
      ],
      "metadata": {
        "id": "d3e9kcsvXtpt"
      }
    },
    {
      "cell_type": "markdown",
      "source": [
        "**Encoding Categorical Variables:**\n",
        "\n",
        "If there are any categorical variables that are not in numerical form, they need to be encoded. However, in this dataset, all the categorical variables are already numerically encoded."
      ],
      "metadata": {
        "id": "EMjT4ZEBXyzy"
      }
    },
    {
      "cell_type": "markdown",
      "source": [
        "**Data Splitting:**\n",
        "\n",
        "We'll split the data into training and test sets to evaluate the model's performance later on."
      ],
      "metadata": {
        "id": "ew5iq4jEYAse"
      }
    },
    {
      "cell_type": "code",
      "source": [
        "# Importing the necessary library for data splitting\n",
        "from sklearn.model_selection import train_test_split\n",
        "\n",
        "# Splitting the data into training and test sets (70% training, 30% test)\n",
        "X_train, X_test, y_train, y_test = train_test_split(X_scaled, y, test_size=0.3, random_state=42)\n",
        "\n",
        "# Display the shape of the training and test sets\n",
        "X_train.shape, X_test.shape, y_train.shape, y_test.shape\n"
      ],
      "metadata": {
        "colab": {
          "base_uri": "https://localhost:8080/"
        },
        "id": "ZqaAYxRBYNeq",
        "outputId": "b9b81eae-faea-48cb-b61c-1f60fc8e8e77"
      },
      "execution_count": 5,
      "outputs": [
        {
          "output_type": "execute_result",
          "data": {
            "text/plain": [
              "((212, 13), (91, 13), (212,), (91,))"
            ]
          },
          "metadata": {},
          "execution_count": 5
        }
      ]
    },
    {
      "cell_type": "markdown",
      "source": [
        "The data has been successfully split into training and test sets:\n",
        "\n",
        "The training set contains 212 samples with 13 features each.\n",
        "\n",
        "The test set contains 91 samples with 13 features each."
      ],
      "metadata": {
        "id": "3Cg5VLb7Yjib"
      }
    },
    {
      "cell_type": "markdown",
      "source": [
        "# **Step 5: Data Mining**"
      ],
      "metadata": {
        "id": "gE5VG1Y1YoF-"
      }
    },
    {
      "cell_type": "markdown",
      "source": [
        "In this step, we'll focus on building and training machine learning models to predict the likelihood of a heart attack. Given that this is a binary classification problem, several algorithms can be considered:\n",
        "\n",
        "**Logistic Regression**\n",
        "\n",
        "**Random Forest Classifier**\n",
        "\n",
        "**Support Vector Machine (SVM)**\n",
        "\n",
        "**K-Nearest Neighbors (KNN)**"
      ],
      "metadata": {
        "id": "nI_-VWR-YxSb"
      }
    },
    {
      "cell_type": "markdown",
      "source": [
        "**Logistic Regression**"
      ],
      "metadata": {
        "id": "8x4gjEu-Y6T3"
      }
    },
    {
      "cell_type": "code",
      "source": [
        "# Importing the necessary library for Logistic Regression\n",
        "from sklearn.linear_model import LogisticRegression\n",
        "from sklearn.metrics import accuracy_score\n",
        "\n",
        "# Initialize the Logistic Regression model\n",
        "logistic_model = LogisticRegression(random_state=42)\n",
        "\n",
        "# Train the model using the training data\n",
        "logistic_model.fit(X_train, y_train)\n",
        "\n",
        "# Predict the target variable for the test data\n",
        "y_pred_logistic = logistic_model.predict(X_test)\n",
        "\n",
        "# Calculate the accuracy of the Logistic Regression model\n",
        "accuracy_logistic = accuracy_score(y_test, y_pred_logistic)\n",
        "accuracy_logistic\n"
      ],
      "metadata": {
        "colab": {
          "base_uri": "https://localhost:8080/"
        },
        "id": "PR3yq-UkY-Zn",
        "outputId": "6aea25a4-a1ad-45c1-da9d-c5a57f13b8e8"
      },
      "execution_count": 6,
      "outputs": [
        {
          "output_type": "execute_result",
          "data": {
            "text/plain": [
              "0.8131868131868132"
            ]
          },
          "metadata": {},
          "execution_count": 6
        }
      ]
    },
    {
      "cell_type": "markdown",
      "source": [
        "The Logistic Regression model achieved an accuracy of approximately 81.3\n",
        "\n",
        "Accuracy is a useful metric, but it's not the only one that should be considered, especially for classification problems. Other metrics like precision, recall, and the F1 score can provide a more comprehensive view of the model's performance."
      ],
      "metadata": {
        "id": "z7H3d48OZEKb"
      }
    },
    {
      "cell_type": "markdown",
      "source": [
        "**Random Forest Classifier**"
      ],
      "metadata": {
        "id": "dWIG4fS3ZMCb"
      }
    },
    {
      "cell_type": "code",
      "source": [
        "# Importing the necessary library for Random Forest Classifier\n",
        "from sklearn.ensemble import RandomForestClassifier\n",
        "\n",
        "# Initialize the Random Forest Classifier model\n",
        "random_forest_model = RandomForestClassifier(random_state=42)\n",
        "\n",
        "# Train the model using the training data\n",
        "random_forest_model.fit(X_train, y_train)\n",
        "\n",
        "# Predict the target variable for the test data\n",
        "y_pred_rf = random_forest_model.predict(X_test)\n",
        "\n",
        "# Calculate the accuracy of the Random Forest Classifier model\n",
        "accuracy_rf = accuracy_score(y_test, y_pred_rf)\n",
        "accuracy_rf\n"
      ],
      "metadata": {
        "colab": {
          "base_uri": "https://localhost:8080/"
        },
        "id": "-k1ejAuXZNRG",
        "outputId": "c285ffe4-77ab-47c0-a221-85d5bb0e09d7"
      },
      "execution_count": 7,
      "outputs": [
        {
          "output_type": "execute_result",
          "data": {
            "text/plain": [
              "0.8351648351648352"
            ]
          },
          "metadata": {},
          "execution_count": 7
        }
      ]
    },
    {
      "cell_type": "markdown",
      "source": [
        "The Random Forest Classifier model achieved an accuracy of approximately\n",
        "83.5, which is slightly better than the Logistic Regression model."
      ],
      "metadata": {
        "id": "NnXir92IZRPo"
      }
    },
    {
      "cell_type": "markdown",
      "source": [
        "**Support Vector Machine (SVM)**"
      ],
      "metadata": {
        "id": "jb0guE69ZWoX"
      }
    },
    {
      "cell_type": "code",
      "source": [
        "# Importing the necessary library for Support Vector Machine (SVM)\n",
        "from sklearn.svm import SVC\n",
        "\n",
        "# Initialize the Support Vector Machine model\n",
        "svm_model = SVC(random_state=42)\n",
        "\n",
        "# Train the model using the training data\n",
        "svm_model.fit(X_train, y_train)\n",
        "\n",
        "# Predict the target variable for the test data\n",
        "y_pred_svm = svm_model.predict(X_test)\n",
        "\n",
        "# Calculate the accuracy of the Support Vector Machine model\n",
        "accuracy_svm = accuracy_score(y_test, y_pred_svm)\n",
        "accuracy_svm\n"
      ],
      "metadata": {
        "colab": {
          "base_uri": "https://localhost:8080/"
        },
        "id": "drWLFQnuZZq7",
        "outputId": "bcb09b18-3cde-48a3-9f9d-651e766ae465"
      },
      "execution_count": 8,
      "outputs": [
        {
          "output_type": "execute_result",
          "data": {
            "text/plain": [
              "0.8131868131868132"
            ]
          },
          "metadata": {},
          "execution_count": 8
        }
      ]
    },
    {
      "cell_type": "markdown",
      "source": [
        "The Support Vector Machine (SVM) model achieved an accuracy of approximately\n",
        "81.3, which is similar to the Logistic Regression model."
      ],
      "metadata": {
        "id": "4jJPNvhUZepi"
      }
    },
    {
      "cell_type": "markdown",
      "source": [
        "**K-Nearest Neighbors (KNN)**"
      ],
      "metadata": {
        "id": "A-J7_nCiZlsz"
      }
    },
    {
      "cell_type": "code",
      "source": [
        "# Importing the necessary library for K-Nearest Neighbors (KNN)\n",
        "from sklearn.neighbors import KNeighborsClassifier\n",
        "\n",
        "# Initialize the K-Nearest Neighbors model\n",
        "knn_model = KNeighborsClassifier()\n",
        "\n",
        "# Train the model using the training data\n",
        "knn_model.fit(X_train, y_train)\n",
        "\n",
        "# Predict the target variable for the test data\n",
        "y_pred_knn = knn_model.predict(X_test)\n",
        "\n",
        "# Calculate the accuracy of the K-Nearest Neighbors model\n",
        "accuracy_knn = accuracy_score(y_test, y_pred_knn)\n",
        "accuracy_knn\n"
      ],
      "metadata": {
        "colab": {
          "base_uri": "https://localhost:8080/"
        },
        "id": "d4htVDnkZm_r",
        "outputId": "e4d57eac-6613-4d7e-cd05-e7f6b4d16194"
      },
      "execution_count": 9,
      "outputs": [
        {
          "output_type": "execute_result",
          "data": {
            "text/plain": [
              "0.8791208791208791"
            ]
          },
          "metadata": {},
          "execution_count": 9
        }
      ]
    },
    {
      "cell_type": "markdown",
      "source": [
        "The K-Nearest Neighbors (KNN) model achieved an accuracy of approximately\n",
        "87.9, which is the highest among the models we've trained so far."
      ],
      "metadata": {
        "id": "URDyg-plZsgB"
      }
    },
    {
      "cell_type": "markdown",
      "source": [
        "Here's a summary of the accuracy scores for each model:\n",
        "\n",
        "**Logistic Regression: 81.3**\n",
        "\n",
        "**Random Forest Classifier: 83.5**\n",
        "\n",
        "**Support Vector Machine (SVM): 81.3**\n",
        "\n",
        "**K-Nearest Neighbors (KNN): 87.9**\n",
        "\n",
        "The **KNN model** appears to be the most accurate based on this metric. However, as mentioned earlier, accuracy is not the only metric that should be considered for classification problems."
      ],
      "metadata": {
        "id": "-J5J8pH_ZuTM"
      }
    },
    {
      "cell_type": "markdown",
      "source": [
        "# **Step 6: Pattern Evaluation**"
      ],
      "metadata": {
        "id": "ginFTneUaDlf"
      }
    },
    {
      "cell_type": "markdown",
      "source": [
        "Let's start by calculating these additional evaluation metrics for the K-Nearest Neighbors (KNN) model, which had the highest accuracy."
      ],
      "metadata": {
        "id": "EHk4-GpNaaGY"
      }
    },
    {
      "cell_type": "code",
      "source": [
        "# Importing the necessary libraries for additional evaluation metrics\n",
        "from sklearn.metrics import precision_score, recall_score, f1_score, roc_auc_score\n",
        "\n",
        "# Calculate Precision, Recall, F1 Score, and ROC-AUC for KNN model\n",
        "precision_knn = precision_score(y_test, y_pred_knn)\n",
        "recall_knn = recall_score(y_test, y_pred_knn)\n",
        "f1_knn = f1_score(y_test, y_pred_knn)\n",
        "roc_auc_knn = roc_auc_score(y_test, y_pred_knn)\n",
        "\n",
        "# Display the additional evaluation metrics for KNN model\n",
        "precision_knn, recall_knn, f1_knn, roc_auc_knn\n"
      ],
      "metadata": {
        "colab": {
          "base_uri": "https://localhost:8080/"
        },
        "id": "jLJ5LXsHacs2",
        "outputId": "4c82d4d8-65a4-4176-f38a-c66914159a21"
      },
      "execution_count": 10,
      "outputs": [
        {
          "output_type": "execute_result",
          "data": {
            "text/plain": [
              "(0.8823529411764706, 0.9, 0.8910891089108911, 0.8768292682926828)"
            ]
          },
          "metadata": {},
          "execution_count": 10
        }
      ]
    },
    {
      "cell_type": "markdown",
      "source": [
        "Here are the additional evaluation metrics for the K-Nearest Neighbors (KNN) model:\n",
        "\n",
        "**Precision:** 0.882 (Approximately 88.2)\n",
        "\n",
        "**Recall:** 0.9 (Approximately 90)\n",
        "\n",
        "**F1 Score:** 0.891 (Approximately 89.1)\n",
        "\n",
        "**ROC-AUC Score:** 0.877 (Approximately 87.7)\n",
        "\n",
        "These metrics indicate that the KNN model performs well not just in terms of accuracy but also in terms of other important metrics like precision, recall, and the F1 score."
      ],
      "metadata": {
        "id": "SeGafPYCag7t"
      }
    },
    {
      "cell_type": "markdown",
      "source": [
        "Since the** K-Nearest Neighbors (KNN)** model has shown the highest performance based on multiple evaluation metrics, we can consider it as our best-performing model for this task."
      ],
      "metadata": {
        "id": "uxl1EogbbBV4"
      }
    },
    {
      "cell_type": "markdown",
      "source": [
        "# **Step 7: Knowledge Presentation**"
      ],
      "metadata": {
        "id": "Wt51YoKjbFHI"
      }
    },
    {
      "cell_type": "markdown",
      "source": [
        "In this final step, we summarize our findings and make them available to stakeholders. Here's a brief summary:\n",
        "\n",
        "**Dataset:** The dataset contained 303 samples with 13 features related to heart health and a target variable indicating the likelihood of a heart attack.\n",
        "\n",
        "**Data Preprocessing:** Features were scaled to have similar ranges, and the data was split into training (70%) and test (30%) sets.\n",
        "\n",
        "**Modeling:** Four different machine learning models were trained for this binary classification problem—Logistic Regression, Random Forest, Support Vector Machine, and K-Nearest Neighbors.\n",
        "\n",
        "**Best Model:** The K-Nearest Neighbors (KNN) model performed the best with an accuracy of approximately 87.9. It also achieved high scores in other metrics like precision (88.2), recall (90), and the F1 score (89.1).\n",
        "\n",
        "This analysis can serve as a basis for further research and can be integrated into healthcare systems to aid medical professionals in identifying high-risk individuals for targeted interventions."
      ],
      "metadata": {
        "id": "fKoZC7HvbMpA"
      }
    },
    {
      "cell_type": "markdown",
      "source": [
        "# **Insights**\n",
        "**Feature Importance:** In the preliminary analysis, features like cp (Chest Pain), thalachh (Maximum Heart Rate), and slp (Slope) showed a positive correlation with the target variable, suggesting they might be strong indicators for a higher chance of a heart attack.\n",
        "\n",
        "**Balanced Dataset:** The dataset was fairly balanced in terms of the target variable, which is good for model training. A balanced dataset helps the model learn the characteristics of both classes equally well.\n",
        "\n",
        "**High-Performance Model:** The K-Nearest Neighbors (KNN) model outperformed other models not just in terms of accuracy but also in other critical metrics like precision and recall. This suggests that the model is both reliable and robust.\n",
        "\n",
        "**Precision and Recall:** The high precision score of the KNN model (88.2) indicates that the model is very good at predicting the positive class (higher chance of heart attack) correctly. The high recall score (90) suggests that the model captures most of the positive instances."
      ],
      "metadata": {
        "id": "EEuqBOo4bioM"
      }
    },
    {
      "cell_type": "markdown",
      "source": [
        "# **Recommendations**\n",
        "**Early Intervention:** Utilizing this predictive model can help healthcare providers identify individuals who are at high risk of a heart attack for early interventions.\n",
        "\n",
        "**Feature Focus:** For more detailed diagnosis and risk assessment, medical professionals might want to pay closer attention to factors like chest pain type, maximum heart rate achieved during stress tests, and slope of peak exercise.\n",
        "\n",
        "**Model Deployment:** The KNN model, given its high performance, can be deployed into a healthcare system after further validation and tuning, to aid doctors in making quicker decisions.\n",
        "\n",
        "**Continuous Monitoring:** For real-world applications, the model should be continuously updated and monitored to ensure its relevance and performance.\n",
        "\n",
        "**Further Research:** Additional features like lifestyle factors (smoking, alcohol, exercise, diet) can be included in future models to potentially improve predictive performance."
      ],
      "metadata": {
        "id": "pc5DZ9bAbxQT"
      }
    }
  ]
}